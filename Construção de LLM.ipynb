{
 "cells": [
  {
   "cell_type": "markdown",
   "id": "d70c32fa-89f7-439e-bc6a-d90094c08c3f",
   "metadata": {},
   "source": [
    "### Importações"
   ]
  },
  {
   "cell_type": "code",
   "execution_count": 1,
   "id": "a35b8f9e-0805-49ef-9524-1e6c8d3c32ad",
   "metadata": {},
   "outputs": [],
   "source": [
    "import re\n",
    "import math\n",
    "import torch\n",
    "import numpy as np\n",
    "import torch.nn as nn\n",
    "import torch.nn.functional as F\n",
    "import torch.optim as optim\n",
    "from random import *"
   ]
  },
  {
   "cell_type": "markdown",
   "id": "478814d4-7961-4b93-b87a-672695f755c6",
   "metadata": {},
   "source": [
    "### Carregando os Dados"
   ]
  },
  {
   "cell_type": "code",
   "execution_count": 2,
   "id": "b65c68e4-a404-40ab-9f14-6a6558c50ebb",
   "metadata": {},
   "outputs": [],
   "source": [
    "texto = open('texto.txt', 'r').read()"
   ]
  },
  {
   "cell_type": "code",
   "execution_count": 3,
   "id": "7244ed68-a093-4db5-9f38-21909aed9dad",
   "metadata": {},
   "outputs": [
    {
     "data": {
      "text/plain": [
       "str"
      ]
     },
     "execution_count": 3,
     "metadata": {},
     "output_type": "execute_result"
    }
   ],
   "source": [
    "type(texto)"
   ]
  },
  {
   "cell_type": "code",
   "execution_count": 4,
   "id": "907298a9-58f2-413b-9cd1-5438b61c3a6f",
   "metadata": {},
   "outputs": [
    {
     "name": "stdout",
     "output_type": "stream",
     "text": [
      "'Olá, como vai? Eu sou a Camila.\\n'\n",
      "'Olá, Camila, meu nome é Fernando. Muito prazer.\\n'\n",
      "'Prazer em conhecer você também. Como você está hoje?\\n'\n",
      "'Ótimo. Meu time de futebol venceu a competição.\\n'\n",
      "'Uau, Parabéns Fernando!\\n'\n",
      "'Obrigado Camila.\\n'\n",
      "'Vamos comer uma pizza mais tarde para celebrar?\\n'\n",
      "'Claro. Você recomenda algum restaurante Camila?\\n'\n",
      "'Sim, abriu um restaurante novo e dizem que a pizza de banana é fenomenal.\\n'\n",
      "'Ok. Nos encontramos no restaurante às sete da noite, pode ser?\\n'\n",
      "'Pode sim. Nos vemos mais tarde então.'\n"
     ]
    }
   ],
   "source": [
    "print(texto)"
   ]
  },
  {
   "cell_type": "markdown",
   "id": "676cf30d-44bc-4f36-9d08-55426bd5f730",
   "metadata": {},
   "source": [
    "### Pré-Processamento dos Dados e Construção do Vocabulário"
   ]
  },
  {
   "cell_type": "code",
   "execution_count": 5,
   "id": "f9e00135-cd6d-49e2-9c8b-a05243d0b1b1",
   "metadata": {},
   "outputs": [],
   "source": [
    "sentences = re.sub(\"[.,!?\\\\-]\", '', texto.lower()).split('\\n')"
   ]
  },
  {
   "cell_type": "code",
   "execution_count": 6,
   "id": "101a895e-fcf3-4335-aedc-3ef20beb1a57",
   "metadata": {},
   "outputs": [
    {
     "name": "stdout",
     "output_type": "stream",
     "text": [
      "[\"'olá como vai eu sou a camila\\\\n'\", \"'olá camila meu nome é fernando muito prazer\\\\n'\", \"'prazer em conhecer você também como você está hoje\\\\n'\", \"'ótimo meu time de futebol venceu a competição\\\\n'\", \"'uau parabéns fernando\\\\n'\", \"'obrigado camila\\\\n'\", \"'vamos comer uma pizza mais tarde para celebrar\\\\n'\", \"'claro você recomenda algum restaurante camila\\\\n'\", \"'sim abriu um restaurante novo e dizem que a pizza de banana é fenomenal\\\\n'\", \"'ok nos encontramos no restaurante às sete da noite pode ser\\\\n'\", \"'pode sim nos vemos mais tarde então'\"]\n"
     ]
    }
   ],
   "source": [
    "print(sentences)"
   ]
  },
  {
   "cell_type": "code",
   "execution_count": 7,
   "id": "819fc0ca-0a5f-43a8-b806-f531f91fe072",
   "metadata": {},
   "outputs": [],
   "source": [
    "word_list = list(set(\" \".join(sentences).split()))"
   ]
  },
  {
   "cell_type": "code",
   "execution_count": 8,
   "id": "ad773255-fd98-4d17-b744-51c002360858",
   "metadata": {},
   "outputs": [
    {
     "name": "stdout",
     "output_type": "stream",
     "text": [
      "[\"competição\\\\n'\", 'um', 'parabéns', \"'claro\", 'banana', 'a', \"ser\\\\n'\", 'venceu', 'restaurante', 'pode', \"'sim\", \"'pode\", \"então'\", 'uma', \"'ok\", 'no', 'nos', 'abriu', 'conhecer', \"fenomenal\\\\n'\", \"'uau\", 'em', 'sete', 'e', 'camila', 'tarde', 'eu', \"hoje\\\\n'\", 'encontramos', 'vemos', \"'olá\", 'mais', 'vai', 'como', 'nome', 'futebol', \"'obrigado\", 'time', \"celebrar\\\\n'\", 'algum', \"'prazer\", 'dizem', 'que', 'é', 'você', 'sou', 'de', 'recomenda', 'às', 'noite', \"prazer\\\\n'\", 'fernando', 'muito', \"fernando\\\\n'\", \"'vamos\", 'novo', 'sim', \"camila\\\\n'\", 'também', 'meu', 'comer', 'para', 'da', \"'ótimo\", 'está', 'pizza']\n"
     ]
    }
   ],
   "source": [
    "print(word_list)"
   ]
  },
  {
   "cell_type": "code",
   "execution_count": 9,
   "id": "f376919e-88aa-4442-8455-50ec14741d30",
   "metadata": {},
   "outputs": [],
   "source": [
    "word_dict = {'[PAD]': 0, '[CLS]': 1, '[SEP]': 2, '[MASK]': 3}"
   ]
  },
  {
   "cell_type": "code",
   "execution_count": 10,
   "id": "e5785a82-b32b-440f-a4bc-28df2ced7b7b",
   "metadata": {},
   "outputs": [
    {
     "name": "stdout",
     "output_type": "stream",
     "text": [
      "{'[PAD]': 0, '[CLS]': 1, '[SEP]': 2, '[MASK]': 3}\n"
     ]
    }
   ],
   "source": [
    "print(word_dict)"
   ]
  },
  {
   "cell_type": "code",
   "execution_count": 11,
   "id": "53a468a3-f0ea-4e3b-9a08-35d756fad53e",
   "metadata": {},
   "outputs": [],
   "source": [
    "for i, w in enumerate(word_list):\n",
    "    word_dict[w] = i + 4"
   ]
  },
  {
   "cell_type": "code",
   "execution_count": 12,
   "id": "e685e76f-06fe-42ba-a4d9-275711c814cf",
   "metadata": {},
   "outputs": [
    {
     "name": "stdout",
     "output_type": "stream",
     "text": [
      "{'[PAD]': 0, '[CLS]': 1, '[SEP]': 2, '[MASK]': 3, \"competição\\\\n'\": 4, 'um': 5, 'parabéns': 6, \"'claro\": 7, 'banana': 8, 'a': 9, \"ser\\\\n'\": 10, 'venceu': 11, 'restaurante': 12, 'pode': 13, \"'sim\": 14, \"'pode\": 15, \"então'\": 16, 'uma': 17, \"'ok\": 18, 'no': 19, 'nos': 20, 'abriu': 21, 'conhecer': 22, \"fenomenal\\\\n'\": 23, \"'uau\": 24, 'em': 25, 'sete': 26, 'e': 27, 'camila': 28, 'tarde': 29, 'eu': 30, \"hoje\\\\n'\": 31, 'encontramos': 32, 'vemos': 33, \"'olá\": 34, 'mais': 35, 'vai': 36, 'como': 37, 'nome': 38, 'futebol': 39, \"'obrigado\": 40, 'time': 41, \"celebrar\\\\n'\": 42, 'algum': 43, \"'prazer\": 44, 'dizem': 45, 'que': 46, 'é': 47, 'você': 48, 'sou': 49, 'de': 50, 'recomenda': 51, 'às': 52, 'noite': 53, \"prazer\\\\n'\": 54, 'fernando': 55, 'muito': 56, \"fernando\\\\n'\": 57, \"'vamos\": 58, 'novo': 59, 'sim': 60, \"camila\\\\n'\": 61, 'também': 62, 'meu': 63, 'comer': 64, 'para': 65, 'da': 66, \"'ótimo\": 67, 'está': 68, 'pizza': 69}\n"
     ]
    }
   ],
   "source": [
    "print(word_dict)"
   ]
  },
  {
   "cell_type": "code",
   "execution_count": 13,
   "id": "60e68885-f5be-41bc-a533-fc0f46e05e18",
   "metadata": {},
   "outputs": [],
   "source": [
    "number_dict = {i: w for i, w in enumerate(word_dict)}"
   ]
  },
  {
   "cell_type": "code",
   "execution_count": 14,
   "id": "4b4b0acd-3abc-458e-8f39-f24fd5ddc896",
   "metadata": {},
   "outputs": [
    {
     "data": {
      "text/plain": [
       "{0: '[PAD]',\n",
       " 1: '[CLS]',\n",
       " 2: '[SEP]',\n",
       " 3: '[MASK]',\n",
       " 4: \"competição\\\\n'\",\n",
       " 5: 'um',\n",
       " 6: 'parabéns',\n",
       " 7: \"'claro\",\n",
       " 8: 'banana',\n",
       " 9: 'a',\n",
       " 10: \"ser\\\\n'\",\n",
       " 11: 'venceu',\n",
       " 12: 'restaurante',\n",
       " 13: 'pode',\n",
       " 14: \"'sim\",\n",
       " 15: \"'pode\",\n",
       " 16: \"então'\",\n",
       " 17: 'uma',\n",
       " 18: \"'ok\",\n",
       " 19: 'no',\n",
       " 20: 'nos',\n",
       " 21: 'abriu',\n",
       " 22: 'conhecer',\n",
       " 23: \"fenomenal\\\\n'\",\n",
       " 24: \"'uau\",\n",
       " 25: 'em',\n",
       " 26: 'sete',\n",
       " 27: 'e',\n",
       " 28: 'camila',\n",
       " 29: 'tarde',\n",
       " 30: 'eu',\n",
       " 31: \"hoje\\\\n'\",\n",
       " 32: 'encontramos',\n",
       " 33: 'vemos',\n",
       " 34: \"'olá\",\n",
       " 35: 'mais',\n",
       " 36: 'vai',\n",
       " 37: 'como',\n",
       " 38: 'nome',\n",
       " 39: 'futebol',\n",
       " 40: \"'obrigado\",\n",
       " 41: 'time',\n",
       " 42: \"celebrar\\\\n'\",\n",
       " 43: 'algum',\n",
       " 44: \"'prazer\",\n",
       " 45: 'dizem',\n",
       " 46: 'que',\n",
       " 47: 'é',\n",
       " 48: 'você',\n",
       " 49: 'sou',\n",
       " 50: 'de',\n",
       " 51: 'recomenda',\n",
       " 52: 'às',\n",
       " 53: 'noite',\n",
       " 54: \"prazer\\\\n'\",\n",
       " 55: 'fernando',\n",
       " 56: 'muito',\n",
       " 57: \"fernando\\\\n'\",\n",
       " 58: \"'vamos\",\n",
       " 59: 'novo',\n",
       " 60: 'sim',\n",
       " 61: \"camila\\\\n'\",\n",
       " 62: 'também',\n",
       " 63: 'meu',\n",
       " 64: 'comer',\n",
       " 65: 'para',\n",
       " 66: 'da',\n",
       " 67: \"'ótimo\",\n",
       " 68: 'está',\n",
       " 69: 'pizza'}"
      ]
     },
     "execution_count": 14,
     "metadata": {},
     "output_type": "execute_result"
    }
   ],
   "source": [
    "number_dict"
   ]
  },
  {
   "cell_type": "code",
   "execution_count": 15,
   "id": "ff28e193-ea05-486a-81af-7be05508041e",
   "metadata": {},
   "outputs": [
    {
     "name": "stdout",
     "output_type": "stream",
     "text": [
      "70\n"
     ]
    }
   ],
   "source": [
    "vocab_size = len(word_dict)\n",
    "print(vocab_size)"
   ]
  },
  {
   "cell_type": "code",
   "execution_count": 16,
   "id": "7c56370c-d0ad-40b9-a4f9-02ae098486f3",
   "metadata": {},
   "outputs": [],
   "source": [
    "token_list = list()"
   ]
  },
  {
   "cell_type": "code",
   "execution_count": 17,
   "id": "603ac6c2-6ae3-41fa-8ebc-af7606e936d4",
   "metadata": {},
   "outputs": [],
   "source": [
    "for sentence in sentences:\n",
    "    arr = [word_dict[s] for s in sentence.split()]\n",
    "    token_list.append(arr)"
   ]
  },
  {
   "cell_type": "code",
   "execution_count": 18,
   "id": "d005590a-61d6-42aa-8217-b52500204050",
   "metadata": {},
   "outputs": [
    {
     "data": {
      "text/plain": [
       "[[34, 37, 36, 30, 49, 9, 61],\n",
       " [34, 28, 63, 38, 47, 55, 56, 54],\n",
       " [44, 25, 22, 48, 62, 37, 48, 68, 31],\n",
       " [67, 63, 41, 50, 39, 11, 9, 4],\n",
       " [24, 6, 57],\n",
       " [40, 61],\n",
       " [58, 64, 17, 69, 35, 29, 65, 42],\n",
       " [7, 48, 51, 43, 12, 61],\n",
       " [14, 21, 5, 12, 59, 27, 45, 46, 9, 69, 50, 8, 47, 23],\n",
       " [18, 20, 32, 19, 12, 52, 26, 66, 53, 13, 10],\n",
       " [15, 60, 20, 33, 35, 29, 16]]"
      ]
     },
     "execution_count": 18,
     "metadata": {},
     "output_type": "execute_result"
    }
   ],
   "source": [
    "token_list"
   ]
  },
  {
   "cell_type": "code",
   "execution_count": 19,
   "id": "7e2a2acc-9ff1-488a-8c57-746ea9066844",
   "metadata": {},
   "outputs": [
    {
     "data": {
      "text/plain": [
       "\"'Olá, como vai? Eu sou a Cami\""
      ]
     },
     "execution_count": 19,
     "metadata": {},
     "output_type": "execute_result"
    }
   ],
   "source": [
    "texto[0:29]"
   ]
  },
  {
   "cell_type": "code",
   "execution_count": 20,
   "id": "56f83f59-1286-48db-ba51-28a83356d2fb",
   "metadata": {},
   "outputs": [
    {
     "data": {
      "text/plain": [
       "[34, 37, 36, 30, 49, 9, 61]"
      ]
     },
     "execution_count": 20,
     "metadata": {},
     "output_type": "execute_result"
    }
   ],
   "source": [
    "token_list[0]"
   ]
  },
  {
   "cell_type": "markdown",
   "id": "edc21f2b-62eb-4938-8814-e84dc74fe3ed",
   "metadata": {},
   "source": [
    "### Definição dos Hiperparâmetros"
   ]
  },
  {
   "cell_type": "code",
   "execution_count": 21,
   "id": "a437981f-71e7-4da5-8fcd-4c4c4c4b9691",
   "metadata": {},
   "outputs": [],
   "source": [
    "# Hiperparâmetros\n",
    "batch_size = 6\n",
    "n_segments = 2\n",
    "dropout = 0.2\n",
    "\n",
    "# Comprimento máximo\n",
    "maxlen = 100\n",
    "\n",
    "# Número máximo de tokens que serão previstos\n",
    "max_pred = 7\n",
    "\n",
    "# Número de Camadas\n",
    "n_layers = 6\n",
    "\n",
    "# Número de cabeças no multi-head attention\n",
    "n_heads = 12\n",
    "\n",
    "# Tamanho da embedding\n",
    "d_model = 768\n",
    "\n",
    "# Tamanho da dimensão feedforward: 4 * d_model\n",
    "d_ff = d_model * 4\n",
    "\n",
    "# Dimensão de K(=Q)V\n",
    "d_k = d_v = 64\n",
    "\n",
    "# Epochs\n",
    "NUM_EPOCHS = 50"
   ]
  },
  {
   "cell_type": "markdown",
   "id": "bb488e08-8f83-4c51-a948-866360c8482d",
   "metadata": {},
   "source": [
    "### Criação dos Batches de Dados e Aplicação dos Tokens Especiais"
   ]
  },
  {
   "cell_type": "code",
   "execution_count": 22,
   "id": "3c621491-8a95-4aa0-b66c-501bd6fd1d3a",
   "metadata": {},
   "outputs": [],
   "source": [
    "def make_batch():\n",
    "\n",
    "    batch = []\n",
    "    positive = negative = 0\n",
    "    while positive != batch_size/2 or negative != batch_size/2:\n",
    "        tokens_a_index, tokens_b_index = randrange(len(sentences)), randrange(len(sentences))\n",
    "        tokens_a, tokens_b = token_list[tokens_a_index], token_list[tokens_b_index]\n",
    "        input_ids = [word_dict['[CLS]']] + tokens_a + [word_dict['[SEP]']] + tokens_b + [word_dict['[SEP]']]\n",
    "        segment_ids = [0] * (1 + len(tokens_a) + 1) + [1] * (len(tokens_b) + 1)\n",
    "        n_pred = min(max_pred, max(1, int(round(len(input_ids) * 0.15))))\n",
    "        cand_maked_pos = [i for i, token in enumerate(input_ids) if token != word_dict['[CLS]'] and token != word_dict['[SEP]']]\n",
    "        shuffle(cand_maked_pos)\n",
    "        masked_tokens, masked_pos = [], []\n",
    "        for pos in cand_maked_pos[:n_pred]:\n",
    "            masked_pos.append(pos)\n",
    "            masked_tokens.append(input_ids[pos])\n",
    "\n",
    "            if random() < 0.8:\n",
    "                input_ids[pos] = word_dict['[MASK]']\n",
    "\n",
    "            elif random() < 0.5:\n",
    "                index = randint(0, vocab_size - 1)\n",
    "                input_ids[pos] = word_dict[number_dict[index]]\n",
    "\n",
    "        n_pad = maxlen - len(input_ids)\n",
    "        input_ids.extend([0] * n_pad)\n",
    "        segment_ids.extend([0] * n_pad)\n",
    "\n",
    "        if max_pred > n_pred:\n",
    "            n_pad = max_pred - n_pred\n",
    "            masked_tokens.extend([0] * n_pad)\n",
    "            masked_pos.extend([0] * n_pad)\n",
    "\n",
    "        if tokens_a_index + 1 == tokens_b_index and positive < batch_size / 2:\n",
    "            batch.append([input_ids, segment_ids, masked_tokens, masked_pos, True])\n",
    "            positive += 1\n",
    "\n",
    "        elif tokens_a_index + 1 != tokens_b_index and negative < batch_size / 2:\n",
    "            batch.append([input_ids, segment_ids, masked_tokens, masked_pos, False])\n",
    "            negative += 1\n",
    "\n",
    "    return batch"
   ]
  },
  {
   "cell_type": "code",
   "execution_count": 23,
   "id": "f77bcde1-b861-45d9-8347-03a1a1c42ed3",
   "metadata": {},
   "outputs": [],
   "source": [
    "def get_attn_pad_masked(seq_q, seq_k):\n",
    "    batch_size, len_q = seq_q.size()\n",
    "    batch_size, len_k = seq_k.size()\n",
    "    pad_attn_masked = seq_k.data.eq(0).unsqueeze(1)\n",
    "    return pad_attn_masked.expand(batch_size, len_q, len_k)"
   ]
  },
  {
   "cell_type": "code",
   "execution_count": 24,
   "id": "118ebfc5-0ab5-467c-a0e6-24add4c0a709",
   "metadata": {},
   "outputs": [],
   "source": [
    "batch = make_batch()"
   ]
  },
  {
   "cell_type": "code",
   "execution_count": 25,
   "id": "1a8fa074-1469-4cd4-b34e-8c795cad6255",
   "metadata": {},
   "outputs": [],
   "source": [
    "input_ids, segment_ids, masked_tokens, masked_pos, isNext = map(torch.LongTensor, zip(*batch))"
   ]
  },
  {
   "cell_type": "code",
   "execution_count": 26,
   "id": "28d3da5a-0c79-42e9-8758-7a6e2dca59fe",
   "metadata": {},
   "outputs": [
    {
     "data": {
      "text/plain": [
       "tensor([[ 1,  3, 64, 17, 69, 35, 29, 65, 42,  2, 10, 20, 32, 19, 12, 52, 26, 66,\n",
       "         53,  3, 10,  2,  0,  0,  0,  0,  0,  0,  0,  0,  0,  0,  0,  0,  0,  0,\n",
       "          0,  0,  0,  0,  0,  0,  0,  0,  0,  0,  0,  0,  0,  0,  0,  0,  0,  0,\n",
       "          0,  0,  0,  0,  0,  0,  0,  0,  0,  0,  0,  0,  0,  0,  0,  0,  0,  0,\n",
       "          0,  0,  0,  0,  0,  0,  0,  0,  0,  0,  0,  0,  0,  0,  0,  0,  0,  0,\n",
       "          0,  0,  0,  0,  0,  0,  0,  0,  0,  0],\n",
       "        [ 1, 67, 63, 41, 50, 39,  3,  9,  4,  2,  3, 63, 41, 50, 39,  3,  9,  4,\n",
       "          2,  0,  0,  0,  0,  0,  0,  0,  0,  0,  0,  0,  0,  0,  0,  0,  0,  0,\n",
       "          0,  0,  0,  0,  0,  0,  0,  0,  0,  0,  0,  0,  0,  0,  0,  0,  0,  0,\n",
       "          0,  0,  0,  0,  0,  0,  0,  0,  0,  0,  0,  0,  0,  0,  0,  0,  0,  0,\n",
       "          0,  0,  0,  0,  0,  0,  0,  0,  0,  0,  0,  0,  0,  0,  0,  0,  0,  0,\n",
       "          0,  0,  0,  0,  0,  0,  0,  0,  0,  0],\n",
       "        [ 1, 34, 37, 36,  3, 49,  9, 61,  2, 67, 63, 41, 50,  3, 11,  9,  3,  2,\n",
       "          0,  0,  0,  0,  0,  0,  0,  0,  0,  0,  0,  0,  0,  0,  0,  0,  0,  0,\n",
       "          0,  0,  0,  0,  0,  0,  0,  0,  0,  0,  0,  0,  0,  0,  0,  0,  0,  0,\n",
       "          0,  0,  0,  0,  0,  0,  0,  0,  0,  0,  0,  0,  0,  0,  0,  0,  0,  0,\n",
       "          0,  0,  0,  0,  0,  0,  0,  0,  0,  0,  0,  0,  0,  0,  0,  0,  0,  0,\n",
       "          0,  0,  0,  0,  0,  0,  0,  0,  0,  0],\n",
       "        [ 1, 67,  3, 41,  3, 39, 11,  9,  4,  2, 24,  6, 57,  2,  0,  0,  0,  0,\n",
       "          0,  0,  0,  0,  0,  0,  0,  0,  0,  0,  0,  0,  0,  0,  0,  0,  0,  0,\n",
       "          0,  0,  0,  0,  0,  0,  0,  0,  0,  0,  0,  0,  0,  0,  0,  0,  0,  0,\n",
       "          0,  0,  0,  0,  0,  0,  0,  0,  0,  0,  0,  0,  0,  0,  0,  0,  0,  0,\n",
       "          0,  0,  0,  0,  0,  0,  0,  0,  0,  0,  0,  0,  0,  0,  0,  0,  0,  0,\n",
       "          0,  0,  0,  0,  0,  0,  0,  0,  0,  0],\n",
       "        [ 1, 40, 61,  2, 58, 40, 17,  3, 35, 29, 65, 42,  2,  0,  0,  0,  0,  0,\n",
       "          0,  0,  0,  0,  0,  0,  0,  0,  0,  0,  0,  0,  0,  0,  0,  0,  0,  0,\n",
       "          0,  0,  0,  0,  0,  0,  0,  0,  0,  0,  0,  0,  0,  0,  0,  0,  0,  0,\n",
       "          0,  0,  0,  0,  0,  0,  0,  0,  0,  0,  0,  0,  0,  0,  0,  0,  0,  0,\n",
       "          0,  0,  0,  0,  0,  0,  0,  0,  0,  0,  0,  0,  0,  0,  0,  0,  0,  0,\n",
       "          0,  0,  0,  0,  0,  0,  0,  0,  0,  0],\n",
       "        [ 1,  3, 61,  2, 58, 64, 17, 69, 35, 29, 65, 42,  2,  0,  0,  0,  0,  0,\n",
       "          0,  0,  0,  0,  0,  0,  0,  0,  0,  0,  0,  0,  0,  0,  0,  0,  0,  0,\n",
       "          0,  0,  0,  0,  0,  0,  0,  0,  0,  0,  0,  0,  0,  0,  0,  0,  0,  0,\n",
       "          0,  0,  0,  0,  0,  0,  0,  0,  0,  0,  0,  0,  0,  0,  0,  0,  0,  0,\n",
       "          0,  0,  0,  0,  0,  0,  0,  0,  0,  0,  0,  0,  0,  0,  0,  0,  0,  0,\n",
       "          0,  0,  0,  0,  0,  0,  0,  0,  0,  0]])"
      ]
     },
     "execution_count": 26,
     "metadata": {},
     "output_type": "execute_result"
    }
   ],
   "source": [
    "input_ids"
   ]
  },
  {
   "cell_type": "code",
   "execution_count": 27,
   "id": "e3b5a405-c07f-4667-a00c-64fc2e56e50b",
   "metadata": {},
   "outputs": [
    {
     "data": {
      "text/plain": [
       "tensor([ 1,  3, 64, 17, 69, 35, 29, 65, 42,  2, 10, 20, 32, 19, 12, 52, 26, 66,\n",
       "        53,  3, 10,  2,  0,  0,  0,  0,  0,  0,  0,  0,  0,  0,  0,  0,  0,  0,\n",
       "         0,  0,  0,  0,  0,  0,  0,  0,  0,  0,  0,  0,  0,  0,  0,  0,  0,  0,\n",
       "         0,  0,  0,  0,  0,  0,  0,  0,  0,  0,  0,  0,  0,  0,  0,  0,  0,  0,\n",
       "         0,  0,  0,  0,  0,  0,  0,  0,  0,  0,  0,  0,  0,  0,  0,  0,  0,  0,\n",
       "         0,  0,  0,  0,  0,  0,  0,  0,  0,  0])"
      ]
     },
     "execution_count": 27,
     "metadata": {},
     "output_type": "execute_result"
    }
   ],
   "source": [
    "input_ids[0]"
   ]
  },
  {
   "cell_type": "code",
   "execution_count": 28,
   "id": "82ff2ef2-bd96-4676-93bd-abb5a934788d",
   "metadata": {},
   "outputs": [
    {
     "data": {
      "text/plain": [
       "tensor([0, 0, 0, 0, 0, 0, 0, 0, 0, 0, 1, 1, 1, 1, 1, 1, 1, 1, 1, 1, 1, 1, 0, 0,\n",
       "        0, 0, 0, 0, 0, 0, 0, 0, 0, 0, 0, 0, 0, 0, 0, 0, 0, 0, 0, 0, 0, 0, 0, 0,\n",
       "        0, 0, 0, 0, 0, 0, 0, 0, 0, 0, 0, 0, 0, 0, 0, 0, 0, 0, 0, 0, 0, 0, 0, 0,\n",
       "        0, 0, 0, 0, 0, 0, 0, 0, 0, 0, 0, 0, 0, 0, 0, 0, 0, 0, 0, 0, 0, 0, 0, 0,\n",
       "        0, 0, 0, 0])"
      ]
     },
     "execution_count": 28,
     "metadata": {},
     "output_type": "execute_result"
    }
   ],
   "source": [
    "segment_ids[0]"
   ]
  },
  {
   "cell_type": "code",
   "execution_count": 29,
   "id": "b3e29f12-9d77-45aa-b9e0-ab8baec8724b",
   "metadata": {},
   "outputs": [
    {
     "data": {
      "text/plain": [
       "tensor([58, 18, 13,  0,  0,  0,  0])"
      ]
     },
     "execution_count": 29,
     "metadata": {},
     "output_type": "execute_result"
    }
   ],
   "source": [
    "masked_tokens[0]"
   ]
  },
  {
   "cell_type": "code",
   "execution_count": 30,
   "id": "ba85b8e7-bbc7-47bd-9fe9-25ede839f5de",
   "metadata": {},
   "outputs": [
    {
     "data": {
      "text/plain": [
       "tensor([ 1, 10, 19,  0,  0,  0,  0])"
      ]
     },
     "execution_count": 30,
     "metadata": {},
     "output_type": "execute_result"
    }
   ],
   "source": [
    "masked_pos[0]"
   ]
  },
  {
   "cell_type": "code",
   "execution_count": 31,
   "id": "c70b1416-7291-431f-a7a3-9ba12bfbc3f4",
   "metadata": {},
   "outputs": [
    {
     "data": {
      "text/plain": [
       "tensor(0)"
      ]
     },
     "execution_count": 31,
     "metadata": {},
     "output_type": "execute_result"
    }
   ],
   "source": [
    "isNext[0]"
   ]
  },
  {
   "cell_type": "code",
   "execution_count": 32,
   "id": "47825989-2ee1-48ef-a681-407c642dddb3",
   "metadata": {},
   "outputs": [
    {
     "data": {
      "text/plain": [
       "(tensor([False, False, False, False, False, False, False, False, False, False,\n",
       "         False, False, False, False, False, False, False, False, False, False,\n",
       "         False, False,  True,  True,  True,  True,  True,  True,  True,  True,\n",
       "          True,  True,  True,  True,  True,  True,  True,  True,  True,  True,\n",
       "          True,  True,  True,  True,  True,  True,  True,  True,  True,  True,\n",
       "          True,  True,  True,  True,  True,  True,  True,  True,  True,  True,\n",
       "          True,  True,  True,  True,  True,  True,  True,  True,  True,  True,\n",
       "          True,  True,  True,  True,  True,  True,  True,  True,  True,  True,\n",
       "          True,  True,  True,  True,  True,  True,  True,  True,  True,  True,\n",
       "          True,  True,  True,  True,  True,  True,  True,  True,  True,  True]),\n",
       " tensor([ 1,  3, 64, 17, 69, 35, 29, 65, 42,  2, 10, 20, 32, 19, 12, 52, 26, 66,\n",
       "         53,  3, 10,  2,  0,  0,  0,  0,  0,  0,  0,  0,  0,  0,  0,  0,  0,  0,\n",
       "          0,  0,  0,  0,  0,  0,  0,  0,  0,  0,  0,  0,  0,  0,  0,  0,  0,  0,\n",
       "          0,  0,  0,  0,  0,  0,  0,  0,  0,  0,  0,  0,  0,  0,  0,  0,  0,  0,\n",
       "          0,  0,  0,  0,  0,  0,  0,  0,  0,  0,  0,  0,  0,  0,  0,  0,  0,  0,\n",
       "          0,  0,  0,  0,  0,  0,  0,  0,  0,  0]))"
      ]
     },
     "execution_count": 32,
     "metadata": {},
     "output_type": "execute_result"
    }
   ],
   "source": [
    "get_attn_pad_masked(input_ids, input_ids)[0][0], input_ids[0]"
   ]
  },
  {
   "cell_type": "markdown",
   "id": "093b9eda-cc2a-4e39-aea1-b4136da246c3",
   "metadata": {},
   "source": [
    "### Construção do Modelo"
   ]
  },
  {
   "cell_type": "markdown",
   "id": "4a2ada83-ed14-4989-a21e-80ea7aa1562b",
   "metadata": {},
   "source": [
    "#### Função de Ativação"
   ]
  },
  {
   "cell_type": "code",
   "execution_count": 33,
   "id": "5d550a4f-f99a-4e30-abdc-00c1c65483fe",
   "metadata": {},
   "outputs": [],
   "source": [
    "def gelu(x):\n",
    "    return x * 0.5 * (1.0 + torch.erf(x / math.sqrt(2.0)))"
   ]
  },
  {
   "cell_type": "markdown",
   "id": "a51eb37f-c948-48a4-9c42-411adfb1e233",
   "metadata": {},
   "source": [
    "#### Módulo Embedding"
   ]
  },
  {
   "cell_type": "code",
   "execution_count": 34,
   "id": "65184970-543b-43b8-bde0-61b0ba432948",
   "metadata": {},
   "outputs": [],
   "source": [
    "class Embedding(nn.Module):\n",
    "\n",
    "    def __init__(self):\n",
    "        super(Embedding, self).__init__()\n",
    "        self.tok_embed = nn.Embedding(vocab_size, d_model)\n",
    "        self.pos_embed = nn.Embedding(maxlen, d_model)\n",
    "        self.seg_embed = nn.Embedding(n_segments, d_model)\n",
    "        self.norm = nn.LayerNorm(d_model)\n",
    "\n",
    "    def forward(self, x, seg):\n",
    "        seq_len = x.size(1)\n",
    "        pos = torch.arange(seq_len, dtype = torch.long)\n",
    "        pos = pos.unsqueeze(0).expand_as(x)\n",
    "        embedding = self.tok_embed(x) + self.pos_embed(pos) + self.seg_embed(seg)\n",
    "\n",
    "        return self.norm(embedding)"
   ]
  },
  {
   "cell_type": "markdown",
   "id": "08801b0a-b875-44da-b3eb-4b59411285d8",
   "metadata": {},
   "source": [
    "#### Módulo Scaled Dot Product Attention"
   ]
  },
  {
   "cell_type": "code",
   "execution_count": 35,
   "id": "44b6e064-5a7c-4200-91fd-fc77f5d1a57b",
   "metadata": {},
   "outputs": [],
   "source": [
    "class ScaledDotProductAttention(nn.Module):\n",
    "\n",
    "    def __init__(self):\n",
    "        super(ScaledDotProductAttention, self).__init__()\n",
    "\n",
    "    def forward(self, Q, K, V, attn_mask):\n",
    "        scores = torch.matmul(Q, K.transpose(-1, -2)) / np.sqrt(d_k)\n",
    "        scores.masked_fill_(attn_mask, -1e9)\n",
    "        attn = nn.Softmax(dim = -1)(scores)\n",
    "        context = torch.matmul(attn, V)\n",
    "\n",
    "        return context, attn"
   ]
  },
  {
   "cell_type": "markdown",
   "id": "b28cdc59-c3ea-4498-8260-14bb1688ba26",
   "metadata": {},
   "source": [
    "#### Módulo Multi-Head Attention"
   ]
  },
  {
   "cell_type": "code",
   "execution_count": 36,
   "id": "d1afebe4-0d6e-43aa-8d0f-68e93eb29908",
   "metadata": {},
   "outputs": [],
   "source": [
    "class MultiHeadAttention(nn.Module):\n",
    "\n",
    "    def __init__(self) -> None:\n",
    "        super(MultiHeadAttention, self).__init__()\n",
    "        self.W_Q = nn.Linear(d_model, d_k * n_heads)\n",
    "        self.W_K = nn.Linear(d_model, d_k * n_heads)\n",
    "        self.W_V = nn.Linear(d_model, d_k * n_heads)\n",
    "\n",
    "    def forward(self, Q, K, V, attn_mask):\n",
    "        residual, batch_size = Q, Q.size(0)\n",
    "        q_s = self.W_Q(Q).view(batch_size, -1, n_heads, d_k).transpose(1, 2)\n",
    "        k_s = self.W_K(K).view(batch_size, -1, n_heads, d_k).transpose(1, 2)\n",
    "        v_s = self.W_V(V).view(batch_size, -1, n_heads, d_k).transpose(1, 2)\n",
    "        attn_mask = attn_mask.unsqueeze(1).repeat(1, n_heads, 1, 1)\n",
    "        context, attn = ScaledDotProductAttention()(q_s, k_s, v_s, attn_mask)\n",
    "        context = context.transpose(1, 2).contiguous().view(batch_size, -1, n_heads * d_v)\n",
    "        output = nn.Linear(n_heads * d_v, d_model)(context)\n",
    "\n",
    "        return nn.LayerNorm(d_model)(output + residual), attn"
   ]
  },
  {
   "cell_type": "code",
   "execution_count": 37,
   "id": "dc26e608-84d3-4d1e-960c-3a700297552e",
   "metadata": {},
   "outputs": [],
   "source": [
    "emb = Embedding()"
   ]
  },
  {
   "cell_type": "code",
   "execution_count": 38,
   "id": "e4e683d5-1ee5-47ad-922d-d9bc1217df28",
   "metadata": {},
   "outputs": [],
   "source": [
    "embeds = emb(input_ids, segment_ids)"
   ]
  },
  {
   "cell_type": "code",
   "execution_count": 39,
   "id": "a07b4739-07de-483f-8898-4aedd9326e6e",
   "metadata": {},
   "outputs": [],
   "source": [
    "attenM = get_attn_pad_masked(input_ids, input_ids)"
   ]
  },
  {
   "cell_type": "code",
   "execution_count": 40,
   "id": "6ae27e9a-683e-4164-9af7-d9643d4bfd89",
   "metadata": {},
   "outputs": [],
   "source": [
    "MHA = MultiHeadAttention()(embeds, embeds, embeds, attenM)"
   ]
  },
  {
   "cell_type": "code",
   "execution_count": 41,
   "id": "9cfbffde-5899-486e-aa40-b97c09af45b3",
   "metadata": {},
   "outputs": [],
   "source": [
    "output, A = MHA"
   ]
  },
  {
   "cell_type": "code",
   "execution_count": 42,
   "id": "8ec9b23b-e561-44ba-96d7-dd39d250d7cc",
   "metadata": {},
   "outputs": [
    {
     "data": {
      "text/plain": [
       "tensor([[0.0436, 0.0261, 0.0357,  ..., 0.0000, 0.0000, 0.0000],\n",
       "        [0.0485, 0.0176, 0.0372,  ..., 0.0000, 0.0000, 0.0000],\n",
       "        [0.0768, 0.0598, 0.0226,  ..., 0.0000, 0.0000, 0.0000],\n",
       "        ...,\n",
       "        [0.0884, 0.0363, 0.0379,  ..., 0.0000, 0.0000, 0.0000],\n",
       "        [0.0556, 0.0407, 0.0432,  ..., 0.0000, 0.0000, 0.0000],\n",
       "        [0.0559, 0.0396, 0.0465,  ..., 0.0000, 0.0000, 0.0000]],\n",
       "       grad_fn=<SelectBackward0>)"
      ]
     },
     "execution_count": 42,
     "metadata": {},
     "output_type": "execute_result"
    }
   ],
   "source": [
    "A[0][0]"
   ]
  },
  {
   "cell_type": "markdown",
   "id": "6f017b06-5514-492a-97bd-a3262cd06110",
   "metadata": {},
   "source": [
    "#### Módulo Feedforward Posicional"
   ]
  },
  {
   "cell_type": "code",
   "execution_count": 54,
   "id": "874c6c09-61d3-4f0e-b278-85fb63c4878f",
   "metadata": {},
   "outputs": [],
   "source": [
    "class PoswiseFeedForward(nn.Module):\n",
    "\n",
    "    def __init__(self) -> None:\n",
    "        super(PoswiseFeedForward, self).__init__()\n",
    "        self.fc1 = nn.Linear(d_model, d_ff)\n",
    "        self.fc2 = nn.Linear(d_ff, d_model)\n",
    "\n",
    "    def forward(self, x):\n",
    "        return self.fc2(gelu(self.fc1(x)))"
   ]
  },
  {
   "cell_type": "markdown",
   "id": "ac06efb7-d9cb-4f30-9046-a282ff11d7d5",
   "metadata": {},
   "source": [
    "#### Módulo Encoder Layer"
   ]
  },
  {
   "cell_type": "code",
   "execution_count": 55,
   "id": "3cffdb19-a960-4382-8475-2ae8f9f069aa",
   "metadata": {},
   "outputs": [],
   "source": [
    "class EncoderLayer(nn.Module):\n",
    "\n",
    "    def __init__(self) -> None:\n",
    "        super(EncoderLayer, self).__init__()\n",
    "        self.enc_self_attn = MultiHeadAttention()\n",
    "        self.pos_ffn = PoswiseFeedForward()\n",
    "\n",
    "    def forward(self, enc_inputs, enc_self_attn_mask):\n",
    "        enc_inputs, atnn = self.enc_self_attn(enc_inputs, enc_inputs, enc_inputs, enc_self_attn_mask)\n",
    "        enc_inputs = self.pos_ffn(enc_inputs)\n",
    "\n",
    "        return enc_inputs, atnn"
   ]
  },
  {
   "cell_type": "markdown",
   "id": "34681bde-f959-4732-966c-329fecda4f4c",
   "metadata": {},
   "source": [
    "#### Arquitetura Final do LLM (Modelo BERT)"
   ]
  },
  {
   "cell_type": "code",
   "execution_count": 56,
   "id": "f0019f7b-0833-4787-8c62-7029907ce093",
   "metadata": {},
   "outputs": [],
   "source": [
    "class BERT(nn.Module):\n",
    "\n",
    "    def __init__(self) -> None:\n",
    "        super(BERT, self).__init__()\n",
    "        self.embedding = Embedding()\n",
    "        self.layers = nn.ModuleList([EncoderLayer() for _ in range(n_layers)])\n",
    "        self.fc = nn.Linear(d_model, d_model)\n",
    "        self.activ1 = nn.Tanh()\n",
    "        self.linear = nn.Linear(d_model, d_model)\n",
    "        self.activ2 = gelu\n",
    "        self.norm = nn.LayerNorm(d_model)\n",
    "        self.classifier = nn.Linear(d_model, 2)\n",
    "        embed_weight = self.embedding.tok_embed.weight\n",
    "        n_vocab, n_dim = embed_weight.size()\n",
    "        self.decoder = nn.Linear(n_dim, n_vocab, bias = False)\n",
    "        self.decoder.weight = embed_weight\n",
    "        self.decoder_bias = nn.Parameter(torch.zeros(n_vocab))\n",
    "\n",
    "    def forward(self, input_ids, segment_ids, masked_pos):\n",
    "        output = self.embedding(input_ids, segment_ids)\n",
    "        enc_self_attn_mask = get_attn_pad_masked(input_ids, input_ids)\n",
    "\n",
    "        for layer in self.layers:\n",
    "            output, enc_self_attn = layer(output, enc_self_attn_mask)\n",
    "\n",
    "        h_pooled = self.activ1(self.fc(output[:, 0]))\n",
    "        logits_clsf = self.classifier(h_pooled)\n",
    "        masked_pos = masked_pos[:, :, None].expand(-1, -1, output.size(-1))\n",
    "        h_masked = torch.gather(output, 1, masked_pos)\n",
    "        h_masked = self.norm(self.activ2(self.linear(h_masked)))\n",
    "        logits_lm = self.decoder(h_masked) + self.decoder_bias\n",
    "\n",
    "        return logits_lm, logits_clsf"
   ]
  },
  {
   "cell_type": "markdown",
   "id": "ad64c63e-88d7-4e2b-8f5b-05330bdb1516",
   "metadata": {},
   "source": [
    "### Treinamento e Avaliação do LLM"
   ]
  },
  {
   "cell_type": "code",
   "execution_count": 57,
   "id": "1d55e7d9-0017-4c23-98d1-813406af3cb2",
   "metadata": {},
   "outputs": [],
   "source": [
    "modelo = BERT()"
   ]
  },
  {
   "cell_type": "code",
   "execution_count": 58,
   "id": "051a432f-7f54-4d92-991d-6a9333f1f288",
   "metadata": {},
   "outputs": [],
   "source": [
    "criterion = nn.CrossEntropyLoss()"
   ]
  },
  {
   "cell_type": "code",
   "execution_count": 59,
   "id": "e2516465-f89e-4327-8010-6cafb7eeda10",
   "metadata": {},
   "outputs": [],
   "source": [
    "optimizer = optim.Adam(modelo.parameters(), lr = 0.001)"
   ]
  },
  {
   "cell_type": "code",
   "execution_count": 60,
   "id": "057ac0cc-a6d1-4275-8da9-cf2dd342a165",
   "metadata": {},
   "outputs": [],
   "source": [
    "batch = make_batch()"
   ]
  },
  {
   "cell_type": "code",
   "execution_count": 61,
   "id": "ba2334db-d147-489d-98ef-481f2f35db1a",
   "metadata": {},
   "outputs": [],
   "source": [
    "input_ids, segment_ids, masked_tokens, masked_pos, isNext = map(torch.LongTensor, zip(*batch))"
   ]
  },
  {
   "cell_type": "code",
   "execution_count": 62,
   "id": "d1cf712f-a4f6-47ff-ade5-7b2afabaeb10",
   "metadata": {},
   "outputs": [
    {
     "name": "stdout",
     "output_type": "stream",
     "text": [
      "Epoch: 1 | Loss: 59.0222\n",
      "Epoch: 2 | Loss: 79.8279\n",
      "Epoch: 3 | Loss: 304.2738\n",
      "Epoch: 4 | Loss: 158.2007\n",
      "Epoch: 5 | Loss: 42.0082\n",
      "Epoch: 6 | Loss: 50.1120\n",
      "Epoch: 7 | Loss: 19.0199\n",
      "Epoch: 8 | Loss: 30.2061\n",
      "Epoch: 9 | Loss: 30.8063\n",
      "Epoch: 10 | Loss: 26.3319\n",
      "Epoch: 11 | Loss: 22.5527\n",
      "Epoch: 12 | Loss: 23.5192\n",
      "Epoch: 13 | Loss: 23.1593\n",
      "Epoch: 14 | Loss: 21.2182\n",
      "Epoch: 15 | Loss: 21.6606\n",
      "Epoch: 16 | Loss: 18.4302\n",
      "Epoch: 17 | Loss: 26.8563\n",
      "Epoch: 18 | Loss: 26.0158\n",
      "Epoch: 19 | Loss: 22.7878\n",
      "Epoch: 20 | Loss: 18.7549\n",
      "Epoch: 21 | Loss: 21.5214\n",
      "Epoch: 22 | Loss: 21.7321\n",
      "Epoch: 23 | Loss: 20.1513\n",
      "Epoch: 24 | Loss: 19.6701\n",
      "Epoch: 25 | Loss: 30.5417\n",
      "Epoch: 26 | Loss: 21.2938\n",
      "Epoch: 27 | Loss: 17.8672\n",
      "Epoch: 28 | Loss: 17.8167\n",
      "Epoch: 29 | Loss: 17.5997\n",
      "Epoch: 30 | Loss: 16.9462\n",
      "Epoch: 31 | Loss: 15.2093\n",
      "Epoch: 32 | Loss: 14.2231\n",
      "Epoch: 33 | Loss: 15.6887\n",
      "Epoch: 34 | Loss: 13.8837\n",
      "Epoch: 35 | Loss: 13.5548\n",
      "Epoch: 36 | Loss: 12.8815\n",
      "Epoch: 37 | Loss: 14.0424\n",
      "Epoch: 38 | Loss: 14.1079\n",
      "Epoch: 39 | Loss: 13.7391\n",
      "Epoch: 40 | Loss: 13.9501\n",
      "Epoch: 41 | Loss: 14.0010\n",
      "Epoch: 42 | Loss: 13.8749\n",
      "Epoch: 43 | Loss: 13.7809\n",
      "Epoch: 44 | Loss: 12.5094\n",
      "Epoch: 45 | Loss: 12.7160\n",
      "Epoch: 46 | Loss: 11.1396\n",
      "Epoch: 47 | Loss: 11.8973\n",
      "Epoch: 48 | Loss: 10.6651\n",
      "Epoch: 49 | Loss: 11.0669\n",
      "Epoch: 50 | Loss: 10.2273\n",
      "CPU times: user 3min 40s, sys: 2.94 s, total: 3min 43s\n",
      "Wall time: 37.3 s\n"
     ]
    }
   ],
   "source": [
    "%%time\n",
    "\n",
    "for epoch in range(NUM_EPOCHS):\n",
    "    optimizer.zero_grad()\n",
    "    logits_lm, logits_clsf = modelo(input_ids, segment_ids, masked_pos)\n",
    "    loss_lm = criterion(logits_lm.transpose(1, 2), masked_tokens)\n",
    "    loss_lm = (loss_lm.float()).mean()\n",
    "    loss_clsf = criterion(logits_clsf, isNext)\n",
    "    loss = loss_lm + loss_clsf\n",
    "    print(f'Epoch: {epoch + 1} | Loss: {loss:.4f}')\n",
    "    loss.backward()\n",
    "    optimizer.step()"
   ]
  },
  {
   "cell_type": "markdown",
   "id": "8af44221-2ea9-4d52-a2b6-9700e62108ad",
   "metadata": {},
   "source": [
    "### Extraindo as Previsões do LLM Treinado"
   ]
  },
  {
   "cell_type": "code",
   "execution_count": 63,
   "id": "4c8c739d-4672-4e86-af6b-ae4e9a215a96",
   "metadata": {},
   "outputs": [
    {
     "name": "stdout",
     "output_type": "stream",
     "text": [
      "'Olá, como vai? Eu sou a Camila.\\n'\n",
      "'Olá, Camila, meu nome é Fernando. Muito prazer.\\n'\n",
      "'Prazer em conhecer você também. Como você está hoje?\\n'\n",
      "'Ótimo. Meu time de futebol venceu a competição.\\n'\n",
      "'Uau, Parabéns Fernando!\\n'\n",
      "'Obrigado Camila.\\n'\n",
      "'Vamos comer uma pizza mais tarde para celebrar?\\n'\n",
      "'Claro. Você recomenda algum restaurante Camila?\\n'\n",
      "'Sim, abriu um restaurante novo e dizem que a pizza de banana é fenomenal.\\n'\n",
      "'Ok. Nos encontramos no restaurante às sete da noite, pode ser?\\n'\n",
      "'Pode sim. Nos vemos mais tarde então.'\n",
      "['[CLS]', \"'ótimo\", 'meu', 'time', \"ser\\\\n'\", 'futebol', 'venceu', 'a', \"competição\\\\n'\", '[SEP]', \"'olá\", '[MASK]', 'vai', 'eu', 'sou', 'a', \"camila\\\\n'\", '[SEP]']\n"
     ]
    }
   ],
   "source": [
    "input_ids, segment_ids, masked_tokens, masked_pos, isNext = map(torch.LongTensor, zip(batch[0]))\n",
    "print(texto)\n",
    "print([number_dict[w.item()] for w in input_ids[0] if number_dict[w.item()] != '[PAD]'])"
   ]
  },
  {
   "cell_type": "code",
   "execution_count": 64,
   "id": "b2dcd785-9d4b-4aff-a075-bdf5c0c2448c",
   "metadata": {},
   "outputs": [
    {
     "name": "stdout",
     "output_type": "stream",
     "text": [
      "Lista de Masked Tokens Reais: [37, 11, 50]\n",
      "Lista de Masked Tokens Previstos: [35, 35, 35]\n"
     ]
    }
   ],
   "source": [
    "logits_lm, logits_clsf = modelo(input_ids, segment_ids, masked_pos)\n",
    "logits_lm = logits_lm.data.max(2)[1][0].data.numpy()\n",
    "print(f'Lista de Masked Tokens Reais: {[pos.item() for pos in masked_tokens[0] if pos.item() != 0]}')\n",
    "print(f'Lista de Masked Tokens Previstos: {[pos for pos in logits_lm if pos != 0]}')"
   ]
  },
  {
   "cell_type": "code",
   "execution_count": 65,
   "id": "48fbc122-56a6-4aa3-a190-bc8eacf56d77",
   "metadata": {},
   "outputs": [
    {
     "name": "stdout",
     "output_type": "stream",
     "text": [
      "isNext (Valor Real): False\n",
      "isNext (Valor Previsto): True\n"
     ]
    }
   ],
   "source": [
    "logits_clsf = logits_clsf.data.max(1)[1].data.numpy()[0]\n",
    "print(f'isNext (Valor Real): {True if isNext else False}')\n",
    "print(f'isNext (Valor Previsto): {True if logits_clsf else False}')"
   ]
  }
 ],
 "metadata": {
  "kernelspec": {
   "display_name": "Python 3 (ipykernel)",
   "language": "python",
   "name": "python3"
  },
  "language_info": {
   "codemirror_mode": {
    "name": "ipython",
    "version": 3
   },
   "file_extension": ".py",
   "mimetype": "text/x-python",
   "name": "python",
   "nbconvert_exporter": "python",
   "pygments_lexer": "ipython3",
   "version": "3.11.9"
  }
 },
 "nbformat": 4,
 "nbformat_minor": 5
}
